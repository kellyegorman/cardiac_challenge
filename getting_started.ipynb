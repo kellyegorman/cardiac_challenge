{
  "nbformat": 4,
  "nbformat_minor": 0,
  "metadata": {
    "colab": {
      "provenance": [],
      "authorship_tag": "ABX9TyMfNDaXiVPjUW3/w05HlhcA"
    },
    "kernelspec": {
      "name": "python3",
      "display_name": "Python 3"
    },
    "language_info": {
      "name": "python"
    }
  },
  "cells": [
    {
      "cell_type": "code",
      "execution_count": null,
      "metadata": {
        "id": "u9HBPp0zrOCn"
      },
      "outputs": [],
      "source": [
        "import pandas as pd\n",
        "import matplotlib.pyplot as plt\n",
        "\n",
        "normal = pd.read_csv('/content/cardio_data/ptbdb_normal.csv')\n",
        "abnormal = pd.read_csv('/content/cardio_data/ptbdb_abnormal.csv')\n",
        "\n",
        "# m_train = pd.read_csv('/content/cardio_data/mitbih_train.csv')\n",
        "m_test = pd.read_csv('/content/cardio_data/mitbih_test.csv')"
      ]
    }
  ]
}